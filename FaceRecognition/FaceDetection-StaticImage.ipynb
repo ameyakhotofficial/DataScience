{
 "cells": [
  {
   "cell_type": "code",
   "execution_count": null,
   "metadata": {},
   "outputs": [],
   "source": [
    "!pip install mtcnn\n",
    "!pip install face_recognition\n",
    "\n",
    "from mtcnn.mtcnn import MTCNN\n",
    "import face_recognition\n",
    "import cv2\n",
    "\n",
    "\n",
    "detector = MTCNN()\n",
    "image = face_recognition.load_image_file(\"r1.jpg\")\n",
    "image\n",
    "face_locations = detector.detect_faces(image)\n",
    "for face in zip(face_locations):\n",
    "    (x, y, w, h) = face[0]['box']\n",
    "    landmarks = face[0]['keypoints']\n",
    "    cv2.rectangle(image,(x,y),(x+w,y+h),(255,0,0),2)\n",
    "    for key, point in landmarks.items():\n",
    "        cv2.circle(image, point, 2, (255, 0, 0), 6)\n",
    "        \n",
    "        \n",
    "%matplotlib inline\n",
    "from matplotlib import pyplot as plt\n",
    "\n",
    "plt.imshow(image)\n",
    "cv2.waitKey(0)\n",
    "cv2.destroyAllWindows()"
   ]
  }
 ],
 "metadata": {
  "kernelspec": {
   "display_name": "Python 3",
   "language": "python",
   "name": "python3"
  },
  "language_info": {
   "codemirror_mode": {
    "name": "ipython",
    "version": 3
   },
   "file_extension": ".py",
   "mimetype": "text/x-python",
   "name": "python",
   "nbconvert_exporter": "python",
   "pygments_lexer": "ipython3",
   "version": "3.7.0"
  }
 },
 "nbformat": 4,
 "nbformat_minor": 2
}
